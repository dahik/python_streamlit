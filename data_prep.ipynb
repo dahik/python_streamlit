{
 "cells": [
  {
   "cell_type": "markdown",
   "metadata": {},
   "source": [
    "## Step 3: Preparing data for training\n",
    "\n",
    "**Objectives**\n",
    "- 3.1. Importing daily scores from news folder\n",
    "- 3.2. Importing daily stock data from stock folder\n",
    "- 3.3. Merge both the imported data with date\n",
    "- 3.4. Saving the merged data\n",
    "- 3.5. Check data by plotting the graph"
   ]
  },
  {
   "cell_type": "code",
   "execution_count": 1,
   "metadata": {},
   "outputs": [],
   "source": [
    "import pandas as pd\n",
    "import json\n",
    "\n",
    "import matplotlib.pyplot as plt"
   ]
  },
  {
   "cell_type": "markdown",
   "metadata": {},
   "source": [
    "### 3.1. Importing daily scores from news folder"
   ]
  },
  {
   "cell_type": "code",
   "execution_count": 8,
   "metadata": {},
   "outputs": [
    {
     "data": {
      "text/html": [
       "<div>\n",
       "<style scoped>\n",
       "    .dataframe tbody tr th:only-of-type {\n",
       "        vertical-align: middle;\n",
       "    }\n",
       "\n",
       "    .dataframe tbody tr th {\n",
       "        vertical-align: top;\n",
       "    }\n",
       "\n",
       "    .dataframe thead th {\n",
       "        text-align: right;\n",
       "    }\n",
       "</style>\n",
       "<table border=\"1\" class=\"dataframe\">\n",
       "  <thead>\n",
       "    <tr style=\"text-align: right;\">\n",
       "      <th></th>\n",
       "      <th>jsonDate</th>\n",
       "      <th>sentiment</th>\n",
       "      <th>date</th>\n",
       "    </tr>\n",
       "  </thead>\n",
       "  <tbody>\n",
       "    <tr>\n",
       "      <th>0</th>\n",
       "      <td>2023-01-01</td>\n",
       "      <td>[0.3303655982017517, 0.18404191732406616, 0.17...</td>\n",
       "      <td>2023-01-01</td>\n",
       "    </tr>\n",
       "    <tr>\n",
       "      <th>1</th>\n",
       "      <td>2023-01-02</td>\n",
       "      <td>[0.28398597240448, 0.18440347909927368, 0.1683...</td>\n",
       "      <td>2023-01-02</td>\n",
       "    </tr>\n",
       "    <tr>\n",
       "      <th>2</th>\n",
       "      <td>2023-01-03</td>\n",
       "      <td>[0.30308911204338074, 0.1791391521692276, 0.17...</td>\n",
       "      <td>2023-01-03</td>\n",
       "    </tr>\n",
       "    <tr>\n",
       "      <th>3</th>\n",
       "      <td>2023-01-04</td>\n",
       "      <td>[0.35545614361763, 0.20434696972370148, 0.1799...</td>\n",
       "      <td>2023-01-04</td>\n",
       "    </tr>\n",
       "    <tr>\n",
       "      <th>4</th>\n",
       "      <td>2023-01-05</td>\n",
       "      <td>[0.4087914824485779, 0.19528710842132568, 0.14...</td>\n",
       "      <td>2023-01-05</td>\n",
       "    </tr>\n",
       "  </tbody>\n",
       "</table>\n",
       "</div>"
      ],
      "text/plain": [
       "     jsonDate                                          sentiment       date\n",
       "0  2023-01-01  [0.3303655982017517, 0.18404191732406616, 0.17... 2023-01-01\n",
       "1  2023-01-02  [0.28398597240448, 0.18440347909927368, 0.1683... 2023-01-02\n",
       "2  2023-01-03  [0.30308911204338074, 0.1791391521692276, 0.17... 2023-01-03\n",
       "3  2023-01-04  [0.35545614361763, 0.20434696972370148, 0.1799... 2023-01-04\n",
       "4  2023-01-05  [0.4087914824485779, 0.19528710842132568, 0.14... 2023-01-05"
      ]
     },
     "execution_count": 8,
     "metadata": {},
     "output_type": "execute_result"
    }
   ],
   "source": [
    "with open('./data/news2023/daily_scores.json', 'r') as file:\n",
    "    sentimentScores = json.load(file)\n",
    "#endwith\n",
    "\n",
    "dfSentiment = pd.DataFrame(list(sentimentScores.items()), columns=['jsonDate', 'sentiment'])\n",
    "dfSentiment['date'] = pd.to_datetime(dfSentiment['jsonDate'], format='%Y-%m-%d')\n",
    "dfSentiment.head()"
   ]
  },
  {
   "cell_type": "markdown",
   "metadata": {},
   "source": [
    "### 3.2. Importing daily stock data from stock folder\n",
    "- Data used will be of Habib Bank Limited (HBL)\n",
    "- This bank is considered to be the top performing and one of the most profitable bank in the country [[Source: AsiaMoney](https://www.asiamoney.com/article/2bp0xnj0tjyfvvwhd8oow/awards/best-bank-awards/pakistans-best-domestic-bank-2023-hbl)]\n",
    "- This bank has branches outside Pakistan as well"
   ]
  },
  {
   "cell_type": "code",
   "execution_count": 3,
   "metadata": {},
   "outputs": [
    {
     "data": {
      "text/html": [
       "<div>\n",
       "<style scoped>\n",
       "    .dataframe tbody tr th:only-of-type {\n",
       "        vertical-align: middle;\n",
       "    }\n",
       "\n",
       "    .dataframe tbody tr th {\n",
       "        vertical-align: top;\n",
       "    }\n",
       "\n",
       "    .dataframe thead th {\n",
       "        text-align: right;\n",
       "    }\n",
       "</style>\n",
       "<table border=\"1\" class=\"dataframe\">\n",
       "  <thead>\n",
       "    <tr style=\"text-align: right;\">\n",
       "      <th></th>\n",
       "      <th>Symbol</th>\n",
       "      <th>Date</th>\n",
       "      <th>Open</th>\n",
       "      <th>High</th>\n",
       "      <th>Low</th>\n",
       "      <th>Close</th>\n",
       "      <th>Volume</th>\n",
       "    </tr>\n",
       "  </thead>\n",
       "  <tbody>\n",
       "    <tr>\n",
       "      <th>0</th>\n",
       "      <td>HBL</td>\n",
       "      <td>2-Jan-23</td>\n",
       "      <td>63.40</td>\n",
       "      <td>64.85</td>\n",
       "      <td>62.75</td>\n",
       "      <td>64.51</td>\n",
       "      <td>958977.0</td>\n",
       "    </tr>\n",
       "    <tr>\n",
       "      <th>1</th>\n",
       "      <td>HBL</td>\n",
       "      <td>3-Jan-23</td>\n",
       "      <td>64.22</td>\n",
       "      <td>65.55</td>\n",
       "      <td>62.80</td>\n",
       "      <td>63.61</td>\n",
       "      <td>1449704.0</td>\n",
       "    </tr>\n",
       "    <tr>\n",
       "      <th>2</th>\n",
       "      <td>HBL</td>\n",
       "      <td>4-Jan-23</td>\n",
       "      <td>62.10</td>\n",
       "      <td>64.00</td>\n",
       "      <td>62.10</td>\n",
       "      <td>63.78</td>\n",
       "      <td>109780.0</td>\n",
       "    </tr>\n",
       "    <tr>\n",
       "      <th>3</th>\n",
       "      <td>HBL</td>\n",
       "      <td>5-Jan-23</td>\n",
       "      <td>64.70</td>\n",
       "      <td>64.80</td>\n",
       "      <td>63.00</td>\n",
       "      <td>64.55</td>\n",
       "      <td>199038.0</td>\n",
       "    </tr>\n",
       "    <tr>\n",
       "      <th>4</th>\n",
       "      <td>HBL</td>\n",
       "      <td>6-Jan-23</td>\n",
       "      <td>64.97</td>\n",
       "      <td>64.97</td>\n",
       "      <td>63.51</td>\n",
       "      <td>64.04</td>\n",
       "      <td>145546.0</td>\n",
       "    </tr>\n",
       "  </tbody>\n",
       "</table>\n",
       "</div>"
      ],
      "text/plain": [
       "  Symbol      Date   Open   High    Low  Close     Volume\n",
       "0    HBL  2-Jan-23  63.40  64.85  62.75  64.51   958977.0\n",
       "1    HBL  3-Jan-23  64.22  65.55  62.80  63.61  1449704.0\n",
       "2    HBL  4-Jan-23  62.10  64.00  62.10  63.78   109780.0\n",
       "3    HBL  5-Jan-23  64.70  64.80  63.00  64.55   199038.0\n",
       "4    HBL  6-Jan-23  64.97  64.97  63.51  64.04   145546.0"
      ]
     },
     "execution_count": 3,
     "metadata": {},
     "output_type": "execute_result"
    }
   ],
   "source": [
    "csvFilePath = './data/stocks2023/hbl.csv'\n",
    "dfCsv = pd.read_csv(csvFilePath)\n",
    "dfCsv.head()"
   ]
  },
  {
   "cell_type": "markdown",
   "metadata": {},
   "source": [
    "### 3.3. Merge both the imported data with date"
   ]
  },
  {
   "cell_type": "code",
   "execution_count": 11,
   "metadata": {},
   "outputs": [
    {
     "name": "stderr",
     "output_type": "stream",
     "text": [
      "C:\\Users\\HARIS\\AppData\\Local\\Temp\\ipykernel_6120\\4259054859.py:17: FutureWarning: A value is trying to be set on a copy of a DataFrame or Series through chained assignment using an inplace method.\n",
      "The behavior will change in pandas 3.0. This inplace method will never work because the intermediate object on which we are setting values always behaves as a copy.\n",
      "\n",
      "For example, when doing 'df[col].method(value, inplace=True)', try using 'df.method({col: value}, inplace=True)' or df[col] = df[col].method(value) instead, to perform the operation inplace on the original object.\n",
      "\n",
      "\n",
      "  dfMerged['sentiment'].fillna(0, inplace=True)\n"
     ]
    },
    {
     "data": {
      "text/html": [
       "<div>\n",
       "<style scoped>\n",
       "    .dataframe tbody tr th:only-of-type {\n",
       "        vertical-align: middle;\n",
       "    }\n",
       "\n",
       "    .dataframe tbody tr th {\n",
       "        vertical-align: top;\n",
       "    }\n",
       "\n",
       "    .dataframe thead th {\n",
       "        text-align: right;\n",
       "    }\n",
       "</style>\n",
       "<table border=\"1\" class=\"dataframe\">\n",
       "  <thead>\n",
       "    <tr style=\"text-align: right;\">\n",
       "      <th></th>\n",
       "      <th>Date</th>\n",
       "      <th>Open</th>\n",
       "      <th>High</th>\n",
       "      <th>Low</th>\n",
       "      <th>Close</th>\n",
       "      <th>Volume</th>\n",
       "      <th>feature1</th>\n",
       "      <th>feature2</th>\n",
       "      <th>feature3</th>\n",
       "      <th>feature4</th>\n",
       "      <th>feature5</th>\n",
       "    </tr>\n",
       "  </thead>\n",
       "  <tbody>\n",
       "    <tr>\n",
       "      <th>0</th>\n",
       "      <td>2-Jan-23</td>\n",
       "      <td>63.40</td>\n",
       "      <td>64.85</td>\n",
       "      <td>62.75</td>\n",
       "      <td>64.51</td>\n",
       "      <td>958977.0</td>\n",
       "      <td>0.283986</td>\n",
       "      <td>0.184403</td>\n",
       "      <td>0.168337</td>\n",
       "      <td>0.175334</td>\n",
       "      <td>0.187939</td>\n",
       "    </tr>\n",
       "    <tr>\n",
       "      <th>1</th>\n",
       "      <td>3-Jan-23</td>\n",
       "      <td>64.22</td>\n",
       "      <td>65.55</td>\n",
       "      <td>62.80</td>\n",
       "      <td>63.61</td>\n",
       "      <td>1449704.0</td>\n",
       "      <td>0.303089</td>\n",
       "      <td>0.179139</td>\n",
       "      <td>0.172025</td>\n",
       "      <td>0.172861</td>\n",
       "      <td>0.172886</td>\n",
       "    </tr>\n",
       "    <tr>\n",
       "      <th>2</th>\n",
       "      <td>4-Jan-23</td>\n",
       "      <td>62.10</td>\n",
       "      <td>64.00</td>\n",
       "      <td>62.10</td>\n",
       "      <td>63.78</td>\n",
       "      <td>109780.0</td>\n",
       "      <td>0.355456</td>\n",
       "      <td>0.204347</td>\n",
       "      <td>0.179981</td>\n",
       "      <td>0.143462</td>\n",
       "      <td>0.116754</td>\n",
       "    </tr>\n",
       "    <tr>\n",
       "      <th>3</th>\n",
       "      <td>5-Jan-23</td>\n",
       "      <td>64.70</td>\n",
       "      <td>64.80</td>\n",
       "      <td>63.00</td>\n",
       "      <td>64.55</td>\n",
       "      <td>199038.0</td>\n",
       "      <td>0.408791</td>\n",
       "      <td>0.195287</td>\n",
       "      <td>0.143465</td>\n",
       "      <td>0.121123</td>\n",
       "      <td>0.131334</td>\n",
       "    </tr>\n",
       "    <tr>\n",
       "      <th>4</th>\n",
       "      <td>6-Jan-23</td>\n",
       "      <td>64.97</td>\n",
       "      <td>64.97</td>\n",
       "      <td>63.51</td>\n",
       "      <td>64.04</td>\n",
       "      <td>145546.0</td>\n",
       "      <td>0.356736</td>\n",
       "      <td>0.167279</td>\n",
       "      <td>0.145859</td>\n",
       "      <td>0.150348</td>\n",
       "      <td>0.179778</td>\n",
       "    </tr>\n",
       "  </tbody>\n",
       "</table>\n",
       "</div>"
      ],
      "text/plain": [
       "       Date   Open   High    Low  Close     Volume  feature1  feature2  \\\n",
       "0  2-Jan-23  63.40  64.85  62.75  64.51   958977.0  0.283986  0.184403   \n",
       "1  3-Jan-23  64.22  65.55  62.80  63.61  1449704.0  0.303089  0.179139   \n",
       "2  4-Jan-23  62.10  64.00  62.10  63.78   109780.0  0.355456  0.204347   \n",
       "3  5-Jan-23  64.70  64.80  63.00  64.55   199038.0  0.408791  0.195287   \n",
       "4  6-Jan-23  64.97  64.97  63.51  64.04   145546.0  0.356736  0.167279   \n",
       "\n",
       "   feature3  feature4  feature5  \n",
       "0  0.168337  0.175334  0.187939  \n",
       "1  0.172025  0.172861  0.172886  \n",
       "2  0.179981  0.143462  0.116754  \n",
       "3  0.143465  0.121123  0.131334  \n",
       "4  0.145859  0.150348  0.179778  "
      ]
     },
     "execution_count": 11,
     "metadata": {},
     "output_type": "execute_result"
    }
   ],
   "source": [
    "# dfCsv['date'] = pd.to_datetime(dfCsv['Date'], format='%d-%b-%y')\n",
    "# print(dfCsv['date'])\n",
    "# dfMerged = pd.merge(dfCsv, dfSentiment, on='date', how='left')\n",
    "# dfSentimentColumns = pd.DataFrame(dfMerged['sentiment'].tolist(), columns=['feature1', 'feature2', 'feature3', 'feature4', 'feature5'])\n",
    "# dfMerged = pd.concat([dfMerged, dfSentimentColumns], axis=1)\n",
    "\n",
    "# dfMerged = dfMerged.drop(columns=['Symbol', 'date', 'sentiment', 'jsonDate'])\n",
    "# dfMerged.head()\n",
    "\n",
    "dfCsv['date'] = pd.to_datetime(dfCsv['Date'], format='%d-%b-%y')\n",
    "dfSentiment['date'] = pd.to_datetime(dfSentiment['date'])\n",
    "\n",
    "# Merge the DataFrames with left join to keep all dates from dfCsv\n",
    "dfMerged = pd.merge(dfCsv, dfSentiment, on='date', how='left')\n",
    "\n",
    "# Fill NaN values in 'sentiment' column with a default value (e.g., 0)\n",
    "dfMerged['sentiment'].fillna(0, inplace=True)\n",
    "\n",
    "# Split 'sentiment' column into multiple columns\n",
    "sentiment_columns = dfMerged['sentiment'].apply(lambda x: pd.Series(x) if isinstance(x, list) else pd.Series([0]*5))\n",
    "sentiment_columns.columns = ['feature1', 'feature2', 'feature3', 'feature4', 'feature5']\n",
    "\n",
    "# Concatenate the new columns with dfMerged\n",
    "dfMerged = pd.concat([dfMerged, sentiment_columns], axis=1)\n",
    "\n",
    "# Drop unnecessary columns\n",
    "dfMerged.drop(columns=['Symbol', 'date', 'sentiment', 'jsonDate'], inplace=True)\n",
    "\n",
    "# Display the resulting DataFrame\n",
    "dfMerged.head()"
   ]
  },
  {
   "cell_type": "markdown",
   "metadata": {},
   "source": [
    "### 3.4. Saving the merged data\n",
    "- Saving the file in CSV format ([hbl_feat.csv](./data/stocks2023/hbl_feat.csv))"
   ]
  },
  {
   "cell_type": "code",
   "execution_count": 12,
   "metadata": {},
   "outputs": [],
   "source": [
    "outputCsvPath = './data/stocks2023/hbl_feat.csv'\n",
    "dfMerged.to_csv(outputCsvPath, index=False)"
   ]
  },
  {
   "cell_type": "markdown",
   "metadata": {},
   "source": [
    "### 3.5. Check data by plotting the graph"
   ]
  },
  {
   "cell_type": "code",
   "execution_count": 13,
   "metadata": {},
   "outputs": [
    {
     "data": {
      "image/png": "[encoded data removed]",
      "text/plain": [
       "<Figure size 640x480 with 1 Axes>"
      ]
     },
     "metadata": {},
     "output_type": "display_data"
    }
   ],
   "source": [
    "dfMerged[['Close']].plot()\n",
    "plt.show()"
   ]
  },
  {
   "cell_type": "code",
   "execution_count": null,
   "metadata": {},
   "outputs": [],
   "source": []
  }
 ],
 "metadata": {
  "kernelspec": {
   "display_name": "Python 3 (ipykernel)",
   "language": "python",
   "name": "python3"
  },
  "language_info": {
   "codemirror_mode": {
    "name": "ipython",
    "version": 3
   },
   "file_extension": ".py",
   "mimetype": "text/x-python",
   "name": "python",
   "nbconvert_exporter": "python",
   "pygments_lexer": "ipython3",
   "version": "3.11.8"
  }
 },
 "nbformat": 4,
 "nbformat_minor": 4
}
